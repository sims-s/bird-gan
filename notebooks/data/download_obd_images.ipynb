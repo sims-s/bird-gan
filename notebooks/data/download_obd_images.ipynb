{
 "cells": [
  {
   "cell_type": "code",
   "execution_count": 1,
   "metadata": {},
   "outputs": [],
   "source": [
    "import urllib\n",
    "import time\n",
    "import tqdm\n",
    "import pandas as pd\n",
    "import itertools\n",
    "import urllib.request\n",
    "import numpy as np\n",
    "import json\n",
    "import pickle\n",
    "\n",
    "\n",
    "import re\n",
    "import requests\n",
    "from bs4 import BeautifulSoup\n",
    "from io import BytesIO\n",
    "from PIL import Image\n",
    "\n",
    "import html\n",
    "import os"
   ]
  },
  {
   "cell_type": "markdown",
   "metadata": {},
   "source": [
    "#### First source: http://orientalbirdimages.org/birdimages.php"
   ]
  },
  {
   "cell_type": "code",
   "execution_count": 2,
   "metadata": {},
   "outputs": [],
   "source": [
    "df = pd.read_csv('../../data/oriental_bird_database/labels.csv')\n",
    "df.drop('Unnamed: 0', inplace=True, axis=1)\n",
    "df['image_url'] = None\n",
    "df = df.sample(df.shape[0], random_state=12345, replace=False)"
   ]
  },
  {
   "cell_type": "code",
   "execution_count": 3,
   "metadata": {},
   "outputs": [],
   "source": [
    "# Don't want to get a bunch of class imbalances, so \n",
    "MAX_IMAGES_PER_CLASS = 64"
   ]
  },
  {
   "cell_type": "markdown",
   "metadata": {},
   "source": [
    "#### how many images does that get me?\n",
    "* probably reasonable?"
   ]
  },
  {
   "cell_type": "code",
   "execution_count": 4,
   "metadata": {},
   "outputs": [
    {
     "data": {
      "text/plain": [
       "92804"
      ]
     },
     "execution_count": 4,
     "metadata": {},
     "output_type": "execute_result"
    }
   ],
   "source": [
    "vcs = df['bird_id'].value_counts()\n",
    "vcs[vcs<MAX_IMAGES_PER_CLASS].sum() + 65*np.sum(vcs > MAX_IMAGES_PER_CLASS)"
   ]
  },
  {
   "cell_type": "code",
   "execution_count": 5,
   "metadata": {},
   "outputs": [],
   "source": [
    "save_path = '../data/oriental_bird_database/images/'"
   ]
  },
  {
   "cell_type": "code",
   "execution_count": 6,
   "metadata": {},
   "outputs": [],
   "source": [
    "def download_and_save_image(row):\n",
    "    if download_and_save_image.bird_counter_dict[row['bird_id']] > MAX_IMAGES_PER_CLASS: \n",
    "        return row\n",
    "    else:\n",
    "        download_and_save_image.bird_counter_dict[row['bird_id']]+=1\n",
    "    \n",
    "    \n",
    "    def func_to_call(row):\n",
    "        image_save_path = save_path + '%d_%d.jpg'%(row['bird_id'], row['image_id'])\n",
    "        if os.path.exists(image_save_path):\n",
    "            return row\n",
    "\n",
    "        response = requests.get(row['url'])\n",
    "        time.sleep(1)\n",
    "        soup = BeautifulSoup(response.text, 'html.parser')\n",
    "        img_tags = soup.find_all('img')\n",
    "        urls = [img['src'] for img in img_tags]\n",
    "        try:\n",
    "            url_i_want = urls[1]\n",
    "        except IndexError:\n",
    "            print('from idx error ', row['url'])\n",
    "            return row\n",
    "        row['image_url'] = url_i_want\n",
    "        response = requests.get(url_i_want)\n",
    "        img = Image.open(BytesIO(response.content))\n",
    "        img.save(image_save_path)\n",
    "        time.sleep(1)\n",
    "        \n",
    "    try:\n",
    "        return func_to_call(row)\n",
    "    except OSError:\n",
    "        print('from os error ', row['url'])\n",
    "        return row\n",
    "#     except requests.ConnectionResetError:\n",
    "#         time.sleep(60*20)\n",
    "#         return func_to_call(row)\n",
    "    return row\n",
    "\n",
    "\n",
    "bird_ids = df['bird_id'].unique().tolist()\n",
    "download_and_save_image.bird_counter_dict = {bird_id : 0 for bird_id in bird_ids}"
   ]
  },
  {
   "cell_type": "code",
   "execution_count": 7,
   "metadata": {},
   "outputs": [],
   "source": [
    "tqdm.tqdm.pandas()"
   ]
  },
  {
   "cell_type": "markdown",
   "metadata": {},
   "source": [
    "total shown by tqdm is \"wrong\". It should be: 92804 (for MAX_IMAGES_PER_CLASS==64)  \n",
    "not quite right since my code has an off by 1 error. clsoe enough"
   ]
  },
  {
   "cell_type": "code",
   "execution_count": 8,
   "metadata": {
    "scrolled": true
   },
   "outputs": [
    {
     "data": {
      "text/plain": [
       "816     65\n",
       "971     65\n",
       "871     65\n",
       "1593    65\n",
       "740     65\n",
       "177     65\n",
       "1895    65\n",
       "121     65\n",
       "1962    65\n",
       "1613    65\n",
       "2793    65\n",
       "2000    65\n",
       "360     65\n",
       "2688    65\n",
       "2293    65\n",
       "1599    65\n",
       "874     65\n",
       "2420    65\n",
       "1885    65\n",
       "2029    65\n",
       "2040    65\n",
       "1032    65\n",
       "1559    65\n",
       "2296    65\n",
       "509     65\n",
       "575     65\n",
       "1738    65\n",
       "2581    65\n",
       "886     65\n",
       "1716    65\n",
       "        ..\n",
       "1065     1\n",
       "2162     1\n",
       "910      1\n",
       "36       1\n",
       "2390     1\n",
       "491      1\n",
       "3007     1\n",
       "2391     1\n",
       "2761     1\n",
       "2316     1\n",
       "1474     1\n",
       "194      1\n",
       "2071     1\n",
       "2280     1\n",
       "1165     1\n",
       "1136     1\n",
       "918      1\n",
       "2460     1\n",
       "708      1\n",
       "1277     1\n",
       "1289     1\n",
       "2788     1\n",
       "2905     1\n",
       "2914     1\n",
       "222      1\n",
       "2279     1\n",
       "1670     1\n",
       "1742     1\n",
       "2896     1\n",
       "992      1\n",
       "Length: 2940, dtype: int64"
      ]
     },
     "execution_count": 8,
     "metadata": {},
     "output_type": "execute_result"
    }
   ],
   "source": [
    "pd.Series([str(f)[:str(f).find('_')] for f in os.listdir('../data/oriental_bird_database/images/')]).value_counts()"
   ]
  },
  {
   "cell_type": "code",
   "execution_count": 9,
   "metadata": {
    "scrolled": false
   },
   "outputs": [
    {
     "name": "stderr",
     "output_type": "stream",
     "text": [
      "  7%|████▉                                                                     | 11360/171711 [00:13<21:25, 124.77it/s]"
     ]
    },
    {
     "name": "stdout",
     "output_type": "stream",
     "text": [
      "from os error  http://orientalbirdimages.org/search.php?Bird_ID=891&Bird_Image_ID=2308\n"
     ]
    },
    {
     "name": "stderr",
     "output_type": "stream",
     "text": [
      " 18%|█████████████▋                                                            | 31742/171711 [00:27<08:32, 272.96it/s]"
     ]
    },
    {
     "name": "stdout",
     "output_type": "stream",
     "text": [
      "from os error  http://orientalbirdimages.org/search.php?Bird_ID=1003&Bird_Image_ID=9843\n"
     ]
    },
    {
     "name": "stderr",
     "output_type": "stream",
     "text": [
      " 23%|█████████████████                                                         | 39449/171711 [00:34<08:25, 261.45it/s]"
     ]
    },
    {
     "name": "stdout",
     "output_type": "stream",
     "text": [
      "from os error  http://orientalbirdimages.org/search.php?Bird_ID=927&Bird_Image_ID=56406\n"
     ]
    },
    {
     "name": "stderr",
     "output_type": "stream",
     "text": [
      " 23%|█████████████████▏                                                        | 39840/171711 [00:36<09:43, 225.96it/s]"
     ]
    },
    {
     "name": "stdout",
     "output_type": "stream",
     "text": [
      "from os error  http://orientalbirdimages.org/search.php?Bird_ID=891&Bird_Image_ID=2166\n"
     ]
    },
    {
     "name": "stderr",
     "output_type": "stream",
     "text": [
      " 27%|███████████████████▉                                                     | 46983/171711 [00:41<02:04, 1001.40it/s]"
     ]
    },
    {
     "name": "stdout",
     "output_type": "stream",
     "text": [
      "from idx error  http://orientalbirdimages.org/search.php?Bird_ID=446&Bird_Image_ID=170450\n"
     ]
    },
    {
     "name": "stderr",
     "output_type": "stream",
     "text": [
      " 30%|██████████████████████                                                    | 51090/171711 [00:43<02:20, 861.57it/s]"
     ]
    },
    {
     "name": "stdout",
     "output_type": "stream",
     "text": [
      "from idx error  http://orientalbirdimages.org/search.php?Bird_ID=2021&Bird_Image_ID=31448\n"
     ]
    },
    {
     "name": "stderr",
     "output_type": "stream",
     "text": [
      " 30%|██████████████████████▎                                                   | 51860/171711 [00:45<03:05, 646.96it/s]"
     ]
    },
    {
     "name": "stdout",
     "output_type": "stream",
     "text": [
      "from idx error  http://orientalbirdimages.org/search.php?Bird_ID=446&Bird_Image_ID=167108\n"
     ]
    },
    {
     "name": "stderr",
     "output_type": "stream",
     "text": [
      " 31%|██████████████████████▋                                                   | 52665/171711 [00:46<03:52, 512.43it/s]"
     ]
    },
    {
     "name": "stdout",
     "output_type": "stream",
     "text": [
      "from os error  http://orientalbirdimages.org/search.php?Bird_ID=2202&Bird_Image_ID=33620\n"
     ]
    },
    {
     "name": "stderr",
     "output_type": "stream",
     "text": [
      " 34%|█████████████████████████▏                                                | 58586/171711 [00:49<02:14, 841.39it/s]"
     ]
    },
    {
     "name": "stdout",
     "output_type": "stream",
     "text": [
      "from os error  http://orientalbirdimages.org/search.php?Bird_ID=1992&Bird_Image_ID=33622\n"
     ]
    },
    {
     "name": "stderr",
     "output_type": "stream",
     "text": [
      " 41%|██████████████████████████████▏                                          | 71124/171711 [00:53<01:27, 1143.15it/s]"
     ]
    },
    {
     "name": "stdout",
     "output_type": "stream",
     "text": [
      "from idx error  http://orientalbirdimages.org/search.php?Bird_ID=1243&Bird_Image_ID=162134\n"
     ]
    },
    {
     "name": "stderr",
     "output_type": "stream",
     "text": [
      " 55%|████████████████████████████████████████▊                                 | 94820/171711 [01:02<02:29, 513.47it/s]"
     ]
    },
    {
     "name": "stdout",
     "output_type": "stream",
     "text": [
      "from os error  http://orientalbirdimages.org/search.php?Bird_ID=1992&Bird_Image_ID=33623\n"
     ]
    },
    {
     "name": "stderr",
     "output_type": "stream",
     "text": [
      " 61%|████████████████████████████████████████████▌                            | 104710/171711 [01:06<01:16, 874.94it/s]"
     ]
    },
    {
     "name": "stdout",
     "output_type": "stream",
     "text": [
      "from idx error  http://orientalbirdimages.org/search.php?Bird_ID=446&Bird_Image_ID=113641\n"
     ]
    },
    {
     "name": "stderr",
     "output_type": "stream",
     "text": [
      " 67%|████████████████████████████████████████████████▌                       | 115674/171711 [01:11<00:53, 1041.76it/s]"
     ]
    },
    {
     "name": "stdout",
     "output_type": "stream",
     "text": [
      "from os error  http://orientalbirdimages.org/search.php?Bird_ID=1982&Bird_Image_ID=10897\n"
     ]
    },
    {
     "name": "stderr",
     "output_type": "stream",
     "text": [
      " 72%|████████████████████████████████████████████████████▌                    | 123742/171711 [01:16<01:14, 642.85it/s]"
     ]
    },
    {
     "name": "stdout",
     "output_type": "stream",
     "text": [
      "from os error  http://orientalbirdimages.org/search.php?Bird_ID=819&Bird_Image_ID=93527\n"
     ]
    },
    {
     "name": "stderr",
     "output_type": "stream",
     "text": [
      " 89%|███████████████████████████████████████████████████████████████▊        | 152068/171711 [01:22<00:13, 1494.86it/s]"
     ]
    },
    {
     "name": "stdout",
     "output_type": "stream",
     "text": [
      "from os error  http://orientalbirdimages.org/search.php?Bird_ID=891&Bird_Image_ID=2199\n"
     ]
    },
    {
     "name": "stderr",
     "output_type": "stream",
     "text": [
      " 91%|█████████████████████████████████████████████████████████████████▎      | 155778/171711 [50:57<6:16:43,  1.42s/it]"
     ]
    },
    {
     "name": "stdout",
     "output_type": "stream",
     "text": [
      "from os error  http://orientalbirdimages.org/search.php?Bird_ID=2690&Bird_Image_ID=178947\n"
     ]
    },
    {
     "name": "stderr",
     "output_type": "stream",
     "text": [
      " 99%|███████████████████████████████████████████████████████████████████████▍| 170368/171711 [4:01:22<43:25,  1.94s/it]"
     ]
    },
    {
     "name": "stdout",
     "output_type": "stream",
     "text": [
      "from os error  http://orientalbirdimages.org/search.php?Bird_ID=2924&Bird_Image_ID=73941\n"
     ]
    },
    {
     "name": "stderr",
     "output_type": "stream",
     "text": [
      "100%|████████████████████████████████████████████████████████████████████████| 171711/171711 [4:17:58<00:00, 11.09it/s]\n"
     ]
    }
   ],
   "source": [
    "df = df.progress_apply(download_and_save_image, axis=1)"
   ]
  },
  {
   "cell_type": "code",
   "execution_count": null,
   "metadata": {},
   "outputs": [],
   "source": []
  }
 ],
 "metadata": {
  "kernelspec": {
   "display_name": "Python 3",
   "language": "python",
   "name": "python3"
  },
  "language_info": {
   "codemirror_mode": {
    "name": "ipython",
    "version": 3
   },
   "file_extension": ".py",
   "mimetype": "text/x-python",
   "name": "python",
   "nbconvert_exporter": "python",
   "pygments_lexer": "ipython3",
   "version": "3.7.3"
  }
 },
 "nbformat": 4,
 "nbformat_minor": 2
}
